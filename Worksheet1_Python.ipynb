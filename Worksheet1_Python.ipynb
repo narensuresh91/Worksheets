{
 "cells": [
  {
   "cell_type": "code",
   "execution_count": 3,
   "metadata": {},
   "outputs": [
    {
     "name": "stdout",
     "output_type": "stream",
     "text": [
      "Enter the number you want to find the factorial for5\n",
      "The factorial for the number is 120\n"
     ]
    }
   ],
   "source": [
    "#Q11\n",
    "a=int(input('Enter the number you want to find the factorial for'))\n",
    "b=1\n",
    "if a==0:\n",
    "    print('The factorial of 0 is 1')\n",
    "else:\n",
    "    for i in range(1,a+1):\n",
    "        b=b*i\n",
    "    \n",
    "\n",
    "print('The factorial for the number is',b)\n"
   ]
  },
  {
   "cell_type": "code",
   "execution_count": 12,
   "metadata": {},
   "outputs": [
    {
     "name": "stdout",
     "output_type": "stream",
     "text": [
      "Enter the number29\n",
      "Number is prime\n"
     ]
    }
   ],
   "source": [
    "#Q12\n",
    "no=int(input('Enter the number'))\n",
    "if no>1:\n",
    "    for i in range(2,no):\n",
    "        if no%i==0:\n",
    "            print('Number is composite')\n",
    "            break\n",
    "    else:\n",
    "        print('Number is prime')"
   ]
  },
  {
   "cell_type": "code",
   "execution_count": 22,
   "metadata": {},
   "outputs": [
    {
     "name": "stdout",
     "output_type": "stream",
     "text": [
      "Enter the string you wish to check is palindrome or not: Malayalam\n",
      "The String entered is palindrome\n"
     ]
    }
   ],
   "source": [
    "#Q13\n",
    "string=input('Enter the string you wish to check is palindrome or not: ')\n",
    "string=string.upper()\n",
    "str2=string[::-1]\n",
    "if str2==string:\n",
    "    print('The String entered is palindrome')\n",
    "else:\n",
    "    print('The string is not palindrome')"
   ]
  },
  {
   "cell_type": "code",
   "execution_count": 30,
   "metadata": {},
   "outputs": [
    {
     "name": "stdout",
     "output_type": "stream",
     "text": [
      "Enter 1st side of the triangle4\n",
      "Enter 2nd side of the triangle3\n",
      "The length of the hypotenuse is 5.0\n"
     ]
    }
   ],
   "source": [
    "#Q14\n",
    "import numpy as np\n",
    "a=int(input('Enter 1st side of the triangle'))\n",
    "b=int(input('Enter 2nd side of the triangle'))\n",
    "c=np.sqrt((a**2)+(b**2))\n",
    "print('The length of the hypotenuse is',c)"
   ]
  },
  {
   "cell_type": "code",
   "execution_count": 32,
   "metadata": {},
   "outputs": [
    {
     "name": "stdout",
     "output_type": "stream",
     "text": [
      "Enter the stringamerica\n",
      "Per character frequency in 'america' is :\n",
      " Counter({'a': 2, 'm': 1, 'e': 1, 'r': 1, 'i': 1, 'c': 1})\n"
     ]
    }
   ],
   "source": [
    "#Q15\n",
    "from collections import Counter\n",
    "string=input('Enter the string')\n",
    "freq=Counter(string)\n",
    "print (\"Per character frequency in '{}' is :\\n {}\".format(string, str(freq)))"
   ]
  },
  {
   "cell_type": "code",
   "execution_count": null,
   "metadata": {},
   "outputs": [],
   "source": []
  }
 ],
 "metadata": {
  "kernelspec": {
   "display_name": "Python 3",
   "language": "python",
   "name": "python3"
  },
  "language_info": {
   "codemirror_mode": {
    "name": "ipython",
    "version": 3
   },
   "file_extension": ".py",
   "mimetype": "text/x-python",
   "name": "python",
   "nbconvert_exporter": "python",
   "pygments_lexer": "ipython3",
   "version": "3.7.6"
  }
 },
 "nbformat": 4,
 "nbformat_minor": 4
}
