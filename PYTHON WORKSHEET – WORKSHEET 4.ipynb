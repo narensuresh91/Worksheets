{
 "cells": [
  {
   "cell_type": "code",
   "execution_count": 8,
   "metadata": {},
   "outputs": [],
   "source": [
    "def expand(num):\n",
    "    digits = str(num) # convert number to string\n",
    "    output = []\n",
    "    for i, digit in enumerate(digits):\n",
    "           output.append(\"(\" + digit + \"x10^\" + str(len(digits)-i-1) + \")\")\n",
    "    return \" + \".join(output)"
   ]
  },
  {
   "cell_type": "code",
   "execution_count": 9,
   "metadata": {},
   "outputs": [
    {
     "data": {
      "text/plain": [
       "'(1x10^4) + (2x10^3) + (3x10^2) + (4x10^1) + (5x10^0)'"
      ]
     },
     "execution_count": 9,
     "metadata": {},
     "output_type": "execute_result"
    }
   ],
   "source": [
    "expand(12345)"
   ]
  },
  {
   "cell_type": "code",
   "execution_count": 13,
   "metadata": {},
   "outputs": [
    {
     "name": "stdout",
     "output_type": "stream",
     "text": [
      "Enter a number:178\n",
      "178 is not an Armstrong number\n"
     ]
    }
   ],
   "source": [
    " num = int(input(\"Enter a number:\"))  \n",
    "sum = 0  \n",
    "dummy = num  \n",
    "  \n",
    "while dummy > 0:  \n",
    "   digit = dummy % 10  \n",
    "   sum += digit ** 3  \n",
    "   dummy //= 10  \n",
    "  \n",
    "if num == sum:  \n",
    "   print(num,\"is an Armstrong number\")  \n",
    "else:  \n",
    "   print(num,\"is not an Armstrong number\")  "
   ]
  },
  {
   "cell_type": "code",
   "execution_count": null,
   "metadata": {},
   "outputs": [],
   "source": []
  }
 ],
 "metadata": {
  "kernelspec": {
   "display_name": "Python 3",
   "language": "python",
   "name": "python3"
  },
  "language_info": {
   "codemirror_mode": {
    "name": "ipython",
    "version": 3
   },
   "file_extension": ".py",
   "mimetype": "text/x-python",
   "name": "python",
   "nbconvert_exporter": "python",
   "pygments_lexer": "ipython3",
   "version": "3.7.6"
  }
 },
 "nbformat": 4,
 "nbformat_minor": 4
}
